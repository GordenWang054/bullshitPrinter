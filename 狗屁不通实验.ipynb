{
 "cells": [
  {
   "cell_type": "code",
   "execution_count": 1,
   "id": "ce11d19a",
   "metadata": {},
   "outputs": [],
   "source": [
    "import random"
   ]
  },
  {
   "cell_type": "code",
   "execution_count": 2,
   "id": "07ddb316",
   "metadata": {},
   "outputs": [],
   "source": [
    "class bullshitGenerator():\n",
    "    def __init__(self, sentence):\n",
    "        self.raw = sentence\n",
    "        self.seed = len(sentence)\n",
    "        \n",
    "    def Seed(self, seed):\n",
    "        self.seed = seed\n",
    "    \n",
    "    def randGenerator(self, sentence, seed = 42):\n",
    "        random.seed(seed)\n",
    "        rand_set = [random.randint(0,1) for i in range(len(sentence))]\n",
    "        return rand_set\n",
    "    \n",
    "    def messUpOrder(self):\n",
    "        rand_set = self.randGenerator(self.raw ,self.seed)\n",
    "        new_sentence = \"\"\n",
    "        for i, word in enumerate(self.raw):\n",
    "            if rand_set[i] == 1:\n",
    "                new_sentence = new_sentence + word\n",
    "        for i, word in enumerate(self.raw):\n",
    "            if rand_set[i] == 0:\n",
    "                new_sentence = new_sentence + word\n",
    "        return new_sentence\n",
    "    \n",
    "    def restore(self, sentence, seed):\n",
    "        random.seed(seed)\n",
    "        rand_set = [random.randint(0,1) for i in range(len(sentence))]\n",
    "        index_set_of_one = [i for i, x in enumerate(rand_set) if x == 1]\n",
    "        num_of_one = len(index_set_of_one)\n",
    "        raw = \"\"\n",
    "        j = 0\n",
    "        k = 0\n",
    "        for i in range(len(sentence)):\n",
    "            if i in index_set_of_one:\n",
    "                raw = raw + sentence[j]\n",
    "                j = j + 1\n",
    "            else:\n",
    "                raw = raw + sentence[k+num_of_one]\n",
    "                k = k + 1    \n",
    "        return raw\n",
    "\n",
    "    def showContent(self):\n",
    "        print(self.raw)\n",
    "        return relf.raw\n",
    "        \n",
    "    def showSeed(self):\n",
    "        print(self.seed)\n",
    "        return self.seed\n",
    "    "
   ]
  },
  {
   "cell_type": "code",
   "execution_count": 3,
   "id": "f028ecf3",
   "metadata": {},
   "outputs": [],
   "source": [
    "def restore(sentence, seed):\n",
    "        random.seed(seed)\n",
    "        rand_set = [random.randint(0,1) for i in range(len(sentence))]\n",
    "        index_set_of_one = [i for i, x in enumerate(rand_set) if x == 1]\n",
    "        num_of_one = len(index_set_of_one)\n",
    "        raw = \"\"\n",
    "        j = 0\n",
    "        k = 0\n",
    "        for i in range(len(sentence)):\n",
    "            if i in index_set_of_one:\n",
    "                raw = raw + sentence[j]\n",
    "                j = j + 1\n",
    "            else:\n",
    "                raw = raw + sentence[k+num_of_one]\n",
    "                k = k + 1    \n",
    "        return raw"
   ]
  },
  {
   "cell_type": "code",
   "execution_count": 4,
   "id": "6a3c8b5b",
   "metadata": {},
   "outputs": [],
   "source": [
    "s = \"谢啥，我还想说对不起呢，最近雨下太多情绪不好\""
   ]
  },
  {
   "cell_type": "code",
   "execution_count": 5,
   "id": "8965fc8e",
   "metadata": {},
   "outputs": [],
   "source": [
    "b = bullshitGenerator(s)"
   ]
  },
  {
   "cell_type": "code",
   "execution_count": 179,
   "id": "97ab62bf",
   "metadata": {},
   "outputs": [],
   "source": [
    "b.Seed(123)"
   ]
  },
  {
   "cell_type": "code",
   "execution_count": 6,
   "id": "0e852039",
   "metadata": {},
   "outputs": [],
   "source": [
    "s0 = b.messUpOrder()"
   ]
  },
  {
   "cell_type": "code",
   "execution_count": 7,
   "id": "64898cc0",
   "metadata": {},
   "outputs": [
    {
     "name": "stdout",
     "output_type": "stream",
     "text": [
      "我说起，近太多情谢啥，还想对不呢最雨下绪不好\n"
     ]
    }
   ],
   "source": [
    "print(s0)"
   ]
  },
  {
   "cell_type": "code",
   "execution_count": 182,
   "id": "0b2b6930",
   "metadata": {},
   "outputs": [
    {
     "name": "stdout",
     "output_type": "stream",
     "text": [
      "123\n",
      "后半段那个坐椅子上的老大哥在视频里看上去不错啊，还关心小女孩跳下来会受伤，看表情并不像是虚情假意的样子。\n"
     ]
    }
   ],
   "source": [
    "print(restore(s0,b.showSeed()))"
   ]
  },
  {
   "cell_type": "code",
   "execution_count": 10,
   "id": "d46b1664",
   "metadata": {},
   "outputs": [],
   "source": [
    "c = bullshitGenerator(\"儿子，我通过翻译软件看了一下，了解到我儿子所学的知识及未来要走的一个方向，虽然我一直都知道我儿子很优秀，不过通过这篇文书，看到了一个更优秀的你这是我想看的目的。谢谢儿子，我很感恩能做你的妈妈！\")"
   ]
  },
  {
   "cell_type": "code",
   "execution_count": 11,
   "id": "6b1bab14",
   "metadata": {},
   "outputs": [
    {
     "name": "stdout",
     "output_type": "stream",
     "text": [
      "儿子，过件看一下，了我儿子所的知要的向，虽我一都知道我很优不这篇书一个的是。谢儿子感恩做妈！我通翻译软了解到学识及未来走一个方然直儿子秀，过通过文，看到了更优秀你这我想看的目的谢，我很能你的妈\n"
     ]
    }
   ],
   "source": [
    "print(c.messUpOrder())"
   ]
  },
  {
   "cell_type": "code",
   "execution_count": null,
   "id": "1e8eee5e",
   "metadata": {},
   "outputs": [],
   "source": []
  }
 ],
 "metadata": {
  "kernelspec": {
   "display_name": "Python [conda env:game] *",
   "language": "python",
   "name": "conda-env-game-py"
  },
  "language_info": {
   "codemirror_mode": {
    "name": "ipython",
    "version": 3
   },
   "file_extension": ".py",
   "mimetype": "text/x-python",
   "name": "python",
   "nbconvert_exporter": "python",
   "pygments_lexer": "ipython3",
   "version": "3.8.11"
  }
 },
 "nbformat": 4,
 "nbformat_minor": 5
}
